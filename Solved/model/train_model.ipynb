{
 "cells": [
  {
   "cell_type": "code",
   "execution_count": 1,
   "metadata": {},
   "outputs": [],
   "source": [
    "import pandas as pd \n",
    "from sqlalchemy import create_engine\n",
    "from sqlalchemy.engine import URL"
   ]
  },
  {
   "cell_type": "code",
   "execution_count": 2,
   "metadata": {},
   "outputs": [],
   "source": [
    "from local_config import DB_USER, DB_PASSWORD, DB_SERVER_NAME, DB_DATABASE_NAME\n",
    "connection_url = URL.create(\n",
    "    drivername = \"postgresql+pg8000\", \n",
    "    username = DB_USER,\n",
    "    password = DB_PASSWORD,\n",
    "    host = DB_SERVER_NAME, \n",
    "    port = 5432,\n",
    "    database = DB_DATABASE_NAME, \n",
    ")\n",
    "\n",
    "engine = create_engine(connection_url)"
   ]
  },
  {
   "cell_type": "code",
   "execution_count": 3,
   "metadata": {},
   "outputs": [],
   "source": [
    "atmosphere_df = pd.read_sql(\"atmosphere\", engine)\n",
    "city_df = pd.read_sql(\"city\", engine).rename(columns={\"name\": \"city_name\"})\n",
    "temperature_df = pd.read_sql(\"temperature\", engine)"
   ]
  },
  {
   "cell_type": "code",
   "execution_count": 4,
   "metadata": {},
   "outputs": [],
   "source": [
    "staging_df = pd.merge(atmosphere_df, temperature_df, on=[\"city_id\", \"datetime\"], how=\"inner\")\n",
    "staging_df[\"date\"] = staging_df[\"datetime\"].astype('datetime64').dt.date\n",
    "merged_df = pd.merge(staging_df, city_df, on=[\"city_id\"], how=\"inner\")\n",
    "merged_df[\"city_name\"] = merged_df[\"city_name\"].str.lower()"
   ]
  },
  {
   "cell_type": "code",
   "execution_count": 5,
   "metadata": {},
   "outputs": [
    {
     "data": {
      "text/html": [
       "<div>\n",
       "<style scoped>\n",
       "    .dataframe tbody tr th:only-of-type {\n",
       "        vertical-align: middle;\n",
       "    }\n",
       "\n",
       "    .dataframe tbody tr th {\n",
       "        vertical-align: top;\n",
       "    }\n",
       "\n",
       "    .dataframe thead th {\n",
       "        text-align: right;\n",
       "    }\n",
       "</style>\n",
       "<table border=\"1\" class=\"dataframe\">\n",
       "  <thead>\n",
       "    <tr style=\"text-align: right;\">\n",
       "      <th></th>\n",
       "      <th>city_id</th>\n",
       "      <th>datetime</th>\n",
       "      <th>main_pressure</th>\n",
       "      <th>main_humidity</th>\n",
       "      <th>main_temp</th>\n",
       "      <th>main_feels_like</th>\n",
       "      <th>main_temp_min</th>\n",
       "      <th>main_temp_max</th>\n",
       "      <th>date</th>\n",
       "      <th>city_name</th>\n",
       "      <th>coord_lon</th>\n",
       "      <th>coord_lat</th>\n",
       "    </tr>\n",
       "  </thead>\n",
       "  <tbody>\n",
       "    <tr>\n",
       "      <th>0</th>\n",
       "      <td>2172517</td>\n",
       "      <td>2022-02-13T06:25:27</td>\n",
       "      <td>1020.0</td>\n",
       "      <td>44.0</td>\n",
       "      <td>26.21</td>\n",
       "      <td>26.21</td>\n",
       "      <td>24.81</td>\n",
       "      <td>28.58</td>\n",
       "      <td>2022-02-13</td>\n",
       "      <td>canberra</td>\n",
       "      <td>149.1281</td>\n",
       "      <td>-35.2835</td>\n",
       "    </tr>\n",
       "    <tr>\n",
       "      <th>1</th>\n",
       "      <td>2172517</td>\n",
       "      <td>2022-02-13T06:58:06</td>\n",
       "      <td>1021.0</td>\n",
       "      <td>44.0</td>\n",
       "      <td>26.03</td>\n",
       "      <td>26.03</td>\n",
       "      <td>24.81</td>\n",
       "      <td>27.43</td>\n",
       "      <td>2022-02-13</td>\n",
       "      <td>canberra</td>\n",
       "      <td>149.1281</td>\n",
       "      <td>-35.2835</td>\n",
       "    </tr>\n",
       "    <tr>\n",
       "      <th>2</th>\n",
       "      <td>2172517</td>\n",
       "      <td>2022-02-13T07:21:27</td>\n",
       "      <td>1019.0</td>\n",
       "      <td>43.0</td>\n",
       "      <td>26.09</td>\n",
       "      <td>26.09</td>\n",
       "      <td>25.30</td>\n",
       "      <td>27.43</td>\n",
       "      <td>2022-02-13</td>\n",
       "      <td>canberra</td>\n",
       "      <td>149.1281</td>\n",
       "      <td>-35.2835</td>\n",
       "    </tr>\n",
       "    <tr>\n",
       "      <th>3</th>\n",
       "      <td>2172517</td>\n",
       "      <td>2022-02-13T08:39:16</td>\n",
       "      <td>1020.0</td>\n",
       "      <td>45.0</td>\n",
       "      <td>23.94</td>\n",
       "      <td>23.56</td>\n",
       "      <td>21.30</td>\n",
       "      <td>26.36</td>\n",
       "      <td>2022-02-13</td>\n",
       "      <td>canberra</td>\n",
       "      <td>149.1281</td>\n",
       "      <td>-35.2835</td>\n",
       "    </tr>\n",
       "    <tr>\n",
       "      <th>4</th>\n",
       "      <td>2172517</td>\n",
       "      <td>2022-02-13T07:44:19</td>\n",
       "      <td>1019.0</td>\n",
       "      <td>44.0</td>\n",
       "      <td>25.49</td>\n",
       "      <td>25.24</td>\n",
       "      <td>24.49</td>\n",
       "      <td>26.82</td>\n",
       "      <td>2022-02-13</td>\n",
       "      <td>canberra</td>\n",
       "      <td>149.1281</td>\n",
       "      <td>-35.2835</td>\n",
       "    </tr>\n",
       "  </tbody>\n",
       "</table>\n",
       "</div>"
      ],
      "text/plain": [
       "   city_id             datetime  main_pressure  main_humidity  main_temp  \\\n",
       "0  2172517  2022-02-13T06:25:27         1020.0           44.0      26.21   \n",
       "1  2172517  2022-02-13T06:58:06         1021.0           44.0      26.03   \n",
       "2  2172517  2022-02-13T07:21:27         1019.0           43.0      26.09   \n",
       "3  2172517  2022-02-13T08:39:16         1020.0           45.0      23.94   \n",
       "4  2172517  2022-02-13T07:44:19         1019.0           44.0      25.49   \n",
       "\n",
       "   main_feels_like  main_temp_min  main_temp_max        date city_name  \\\n",
       "0            26.21          24.81          28.58  2022-02-13  canberra   \n",
       "1            26.03          24.81          27.43  2022-02-13  canberra   \n",
       "2            26.09          25.30          27.43  2022-02-13  canberra   \n",
       "3            23.56          21.30          26.36  2022-02-13  canberra   \n",
       "4            25.24          24.49          26.82  2022-02-13  canberra   \n",
       "\n",
       "  coord_lon coord_lat  \n",
       "0  149.1281  -35.2835  \n",
       "1  149.1281  -35.2835  \n",
       "2  149.1281  -35.2835  \n",
       "3  149.1281  -35.2835  \n",
       "4  149.1281  -35.2835  "
      ]
     },
     "execution_count": 5,
     "metadata": {},
     "output_type": "execute_result"
    }
   ],
   "source": [
    "merged_df.head()"
   ]
  },
  {
   "cell_type": "code",
   "execution_count": 6,
   "metadata": {},
   "outputs": [
    {
     "data": {
      "text/html": [
       "<div>\n",
       "<style scoped>\n",
       "    .dataframe tbody tr th:only-of-type {\n",
       "        vertical-align: middle;\n",
       "    }\n",
       "\n",
       "    .dataframe tbody tr th {\n",
       "        vertical-align: top;\n",
       "    }\n",
       "\n",
       "    .dataframe thead th {\n",
       "        text-align: right;\n",
       "    }\n",
       "</style>\n",
       "<table border=\"1\" class=\"dataframe\">\n",
       "  <thead>\n",
       "    <tr style=\"text-align: right;\">\n",
       "      <th></th>\n",
       "      <th>city_name</th>\n",
       "      <th>date</th>\n",
       "      <th>main_pressure</th>\n",
       "      <th>main_humidity</th>\n",
       "      <th>main_temp</th>\n",
       "    </tr>\n",
       "  </thead>\n",
       "  <tbody>\n",
       "    <tr>\n",
       "      <th>0</th>\n",
       "      <td>adelaide</td>\n",
       "      <td>2022-02-13</td>\n",
       "      <td>1015.357895</td>\n",
       "      <td>43.957895</td>\n",
       "      <td>23.812842</td>\n",
       "    </tr>\n",
       "    <tr>\n",
       "      <th>1</th>\n",
       "      <td>adelaide</td>\n",
       "      <td>2022-02-14</td>\n",
       "      <td>1018.985401</td>\n",
       "      <td>51.474453</td>\n",
       "      <td>24.645620</td>\n",
       "    </tr>\n",
       "    <tr>\n",
       "      <th>2</th>\n",
       "      <td>adelaide</td>\n",
       "      <td>2022-02-15</td>\n",
       "      <td>1019.285714</td>\n",
       "      <td>46.357143</td>\n",
       "      <td>28.414464</td>\n",
       "    </tr>\n",
       "    <tr>\n",
       "      <th>3</th>\n",
       "      <td>brisbane</td>\n",
       "      <td>2022-02-13</td>\n",
       "      <td>1021.166667</td>\n",
       "      <td>81.437500</td>\n",
       "      <td>21.560208</td>\n",
       "    </tr>\n",
       "    <tr>\n",
       "      <th>4</th>\n",
       "      <td>brisbane</td>\n",
       "      <td>2022-02-14</td>\n",
       "      <td>1022.612676</td>\n",
       "      <td>88.471831</td>\n",
       "      <td>21.439155</td>\n",
       "    </tr>\n",
       "  </tbody>\n",
       "</table>\n",
       "</div>"
      ],
      "text/plain": [
       "  city_name        date  main_pressure  main_humidity  main_temp\n",
       "0  adelaide  2022-02-13    1015.357895      43.957895  23.812842\n",
       "1  adelaide  2022-02-14    1018.985401      51.474453  24.645620\n",
       "2  adelaide  2022-02-15    1019.285714      46.357143  28.414464\n",
       "3  brisbane  2022-02-13    1021.166667      81.437500  21.560208\n",
       "4  brisbane  2022-02-14    1022.612676      88.471831  21.439155"
      ]
     },
     "execution_count": 6,
     "metadata": {},
     "output_type": "execute_result"
    }
   ],
   "source": [
    "grouped_df = merged_df[[\n",
    "    \"main_pressure\", \n",
    "    \"main_humidity\", \n",
    "    \"city_name\",\n",
    "    \"date\",\n",
    "    \"main_temp\"\n",
    "]].groupby(by=[\"city_name\", \"date\"]).mean().reset_index()\n",
    "grouped_df = grouped_df[grouped_df[\"main_temp\"]<50] # remove temps that were recorded in farenheit \n",
    "grouped_df.head()"
   ]
  },
  {
   "cell_type": "code",
   "execution_count": 7,
   "metadata": {},
   "outputs": [],
   "source": [
    "clean_df = pd.get_dummies(grouped_df,columns=[\"city_name\"])"
   ]
  },
  {
   "cell_type": "code",
   "execution_count": 8,
   "metadata": {},
   "outputs": [],
   "source": [
    "X = clean_df[[\n",
    "    \"main_pressure\", \n",
    "    \"main_humidity\", \n",
    "    \"city_name_adelaide\", \n",
    "    \"city_name_brisbane\", \n",
    "    \"city_name_canberra\", \n",
    "    \"city_name_darwin\", \n",
    "    \"city_name_hobart\", \n",
    "    \"city_name_melbourne\", \n",
    "    \"city_name_perth\", \n",
    "    \"city_name_sydney\"\n",
    "]]\n",
    "\n",
    "y = clean_df[\"main_temp\"].values.reshape(-1,1)"
   ]
  },
  {
   "cell_type": "code",
   "execution_count": 9,
   "metadata": {},
   "outputs": [],
   "source": [
    "from sklearn.model_selection import train_test_split\n",
    "X_train, X_test, y_train, y_test = train_test_split(X, y, random_state=42)"
   ]
  },
  {
   "cell_type": "code",
   "execution_count": 10,
   "metadata": {},
   "outputs": [
    {
     "name": "stderr",
     "output_type": "stream",
     "text": [
      "/Users/jonathanneo/opt/anaconda3/envs/PythonData/lib/python3.7/site-packages/sklearn/utils/validation.py:1692: FutureWarning: Feature names only support names that are all strings. Got feature names with dtypes: ['quoted_name', 'str']. An error will be raised in 1.2.\n",
      "  FutureWarning,\n"
     ]
    }
   ],
   "source": [
    "from sklearn.preprocessing import StandardScaler\n",
    "X_scaler = StandardScaler().fit(X_train)\n",
    "y_scaler = StandardScaler().fit(y_train)"
   ]
  },
  {
   "cell_type": "code",
   "execution_count": 11,
   "metadata": {},
   "outputs": [
    {
     "name": "stderr",
     "output_type": "stream",
     "text": [
      "/Users/jonathanneo/opt/anaconda3/envs/PythonData/lib/python3.7/site-packages/sklearn/utils/validation.py:1692: FutureWarning: Feature names only support names that are all strings. Got feature names with dtypes: ['quoted_name', 'str']. An error will be raised in 1.2.\n",
      "  FutureWarning,\n",
      "/Users/jonathanneo/opt/anaconda3/envs/PythonData/lib/python3.7/site-packages/sklearn/utils/validation.py:1692: FutureWarning: Feature names only support names that are all strings. Got feature names with dtypes: ['quoted_name', 'str']. An error will be raised in 1.2.\n",
      "  FutureWarning,\n"
     ]
    }
   ],
   "source": [
    "# scale data\n",
    "X_train_scaled = X_scaler.transform(X_train)\n",
    "X_test_scaled = X_scaler.transform(X_test)\n",
    "y_train_scaled = y_scaler.transform(y_train)\n",
    "y_test_scaled = y_scaler.transform(y_test)"
   ]
  },
  {
   "cell_type": "code",
   "execution_count": 12,
   "metadata": {},
   "outputs": [
    {
     "data": {
      "text/plain": [
       "0.5407394133250206"
      ]
     },
     "execution_count": 12,
     "metadata": {},
     "output_type": "execute_result"
    }
   ],
   "source": [
    "# train the model \n",
    "from sklearn.linear_model import LinearRegression\n",
    "model = LinearRegression()\n",
    "model.fit(X_train_scaled, y_train_scaled)\n",
    "model.score(X_test_scaled, y_test_scaled)"
   ]
  },
  {
   "cell_type": "code",
   "execution_count": 13,
   "metadata": {},
   "outputs": [
    {
     "data": {
      "text/plain": [
       "OneHotEncoder()"
      ]
     },
     "execution_count": 13,
     "metadata": {},
     "output_type": "execute_result"
    }
   ],
   "source": [
    "# create a city encoder \n",
    "from sklearn.preprocessing import OneHotEncoder\n",
    "encoder = OneHotEncoder()\n",
    "encoder.fit(grouped_df[[\n",
    "    \"city_name\"\n",
    "]])"
   ]
  },
  {
   "cell_type": "code",
   "execution_count": 18,
   "metadata": {},
   "outputs": [
    {
     "data": {
      "text/plain": [
       "['../app/static/py/encoder.sav']"
      ]
     },
     "execution_count": 18,
     "metadata": {},
     "output_type": "execute_result"
    }
   ],
   "source": [
    "# save model \n",
    "import joblib \n",
    "joblib.dump(model, \"../app/static/py/model.sav\")\n",
    "joblib.dump(y_scaler, \"../app/static/py/y_scaler.sav\")\n",
    "joblib.dump(X_scaler, \"../app/static/py/x_scaler.sav\")\n",
    "joblib.dump(encoder, \"../app/static/py/encoder.sav\")"
   ]
  },
  {
   "cell_type": "code",
   "execution_count": 19,
   "metadata": {},
   "outputs": [],
   "source": [
    "def predict(user_inputs):\n",
    "    # load model binaries \n",
    "    model = joblib.load(\"../app/static/py/model.sav\")\n",
    "    encoder = joblib.load(\"../app/static/py/encoder.sav\")\n",
    "    X_scaler = joblib.load(\"../app/static/py/x_scaler.sav\")\n",
    "    y_scaler  = joblib.load(\"../app/static/py/y_scaler.sav\")\n",
    "\n",
    "    # get the user input data \n",
    "    pressure = user_inputs[\"pressure\"]\n",
    "    humidity = user_inputs[\"humidity\"]\n",
    "    city_name = user_inputs[\"city_name\"]\n",
    "    \n",
    "    # store city names into a df \n",
    "    city_input_df = pd.DataFrame({\n",
    "        \"city_name\": [city_name]\n",
    "    })\n",
    "\n",
    "    # use encoder to transform the city df \n",
    "    X_transformed = encoder.transform(city_input_df)\n",
    "    city_df = pd.DataFrame(columns=[*encoder.categories_], data=X_transformed.toarray())\n",
    "    \n",
    "    # store pressure and humidty into df \n",
    "    input_df = pd.DataFrame({\n",
    "        \"pressure\": [pressure],\n",
    "        \"humidity\": [humidity]\n",
    "    })\n",
    "\n",
    "    # combine both df's using indexes \n",
    "    df = input_df.merge(city_df, left_index=True, right_index=True)\n",
    "\n",
    "    # scale the X input df \n",
    "    X_scaled = X_scaler.transform(df)\n",
    "\n",
    "    # obtain prediction (y) \n",
    "    prediction_scaled = model.predict(X_scaled)\n",
    "    \n",
    "    # scale prediction to human readable terms i.e. celcius \n",
    "    prediction = y_scaler.inverse_transform(prediction_scaled)\n",
    "    return prediction[0][0]"
   ]
  },
  {
   "cell_type": "code",
   "execution_count": 20,
   "metadata": {},
   "outputs": [
    {
     "name": "stdout",
     "output_type": "stream",
     "text": [
      "predicted temp is: 33.99 celcius\n"
     ]
    },
    {
     "name": "stderr",
     "output_type": "stream",
     "text": [
      "/Users/jonathanneo/opt/anaconda3/envs/PythonData/lib/python3.7/site-packages/sklearn/utils/validation.py:1692: FutureWarning: Feature names only support names that are all strings. Got feature names with dtypes: ['str', 'tuple']. An error will be raised in 1.2.\n",
      "  FutureWarning,\n"
     ]
    }
   ],
   "source": [
    "# test a single prediction \n",
    "user_inputs = {\n",
    "    \"pressure\": 1011, \n",
    "    \"humidity\": 50,\n",
    "    \"city_name\": \"perth\"   \n",
    "}\n",
    "print(f\"predicted temp is: {predict(user_inputs).round(2)} celcius\")"
   ]
  }
 ],
 "metadata": {
  "interpreter": {
   "hash": "23a582b2fcb0d9f1a6df63352f294e1d6ca5ce9199f319a44fc346f4901363b4"
  },
  "kernelspec": {
   "display_name": "Python 3.7.11 ('PythonData')",
   "language": "python",
   "name": "python3"
  },
  "language_info": {
   "codemirror_mode": {
    "name": "ipython",
    "version": 3
   },
   "file_extension": ".py",
   "mimetype": "text/x-python",
   "name": "python",
   "nbconvert_exporter": "python",
   "pygments_lexer": "ipython3",
   "version": "3.7.11"
  },
  "orig_nbformat": 4
 },
 "nbformat": 4,
 "nbformat_minor": 2
}
